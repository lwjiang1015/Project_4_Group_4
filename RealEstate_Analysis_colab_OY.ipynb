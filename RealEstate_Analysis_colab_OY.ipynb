{
  "nbformat": 4,
  "nbformat_minor": 0,
  "metadata": {
    "colab": {
      "provenance": []
    },
    "kernelspec": {
      "name": "python3",
      "display_name": "Python 3"
    },
    "language_info": {
      "name": "python"
    }
  },
  "cells": [
    {
      "cell_type": "code",
      "execution_count": 1,
      "metadata": {
        "colab": {
          "base_uri": "https://localhost:8080/"
        },
        "id": "iotfwrHmBW4Y",
        "outputId": "e721bf35-23fa-448f-ae0f-e044167ce3ec"
      },
      "outputs": [
        {
          "output_type": "stream",
          "name": "stdout",
          "text": [
            "\r0% [Working]\r            \rHit:1 http://security.ubuntu.com/ubuntu jammy-security InRelease\n",
            "\r0% [Connecting to archive.ubuntu.com (185.125.190.36)] [Connected to cloud.r-project.org (108.157.17\r                                                                                                    \rHit:2 https://cloud.r-project.org/bin/linux/ubuntu jammy-cran40/ InRelease\n",
            "\r0% [Waiting for headers] [Connected to ppa.launchpadcontent.net (185.125.190.80)] [Waiting for heade\r                                                                                                    \rHit:3 https://developer.download.nvidia.com/compute/cuda/repos/ubuntu2204/x86_64  InRelease\n",
            "Hit:4 http://archive.ubuntu.com/ubuntu jammy InRelease\n",
            "Hit:5 http://archive.ubuntu.com/ubuntu jammy-updates InRelease\n",
            "Hit:6 http://archive.ubuntu.com/ubuntu jammy-backports InRelease\n",
            "Hit:7 https://ppa.launchpadcontent.net/c2d4u.team/c2d4u4.0+/ubuntu jammy InRelease\n",
            "Hit:8 https://ppa.launchpadcontent.net/deadsnakes/ppa/ubuntu jammy InRelease\n",
            "Hit:9 https://ppa.launchpadcontent.net/graphics-drivers/ppa/ubuntu jammy InRelease\n",
            "Hit:10 https://ppa.launchpadcontent.net/ubuntugis/ppa/ubuntu jammy InRelease\n",
            "Reading package lists... Done\n"
          ]
        }
      ],
      "source": [
        "import os\n",
        "# Find the latest version of spark 3.x  from https://downloads.apache.org/spark/ and enter as the spark version\n",
        "# For example:\n",
        "# spark_version = 'spark-3.5.1'\n",
        "spark_version = 'spark-3.5.1'\n",
        "os.environ['SPARK_VERSION']=spark_version\n",
        "\n",
        "# Install Spark and Java\n",
        "!apt-get update\n",
        "!apt-get install openjdk-11-jdk-headless -qq > /dev/null\n",
        "!wget -q https://downloads.apache.org/spark/$SPARK_VERSION/$SPARK_VERSION-bin-hadoop3.tgz\n",
        "!tar xf $SPARK_VERSION-bin-hadoop3.tgz\n",
        "!pip install -q findspark\n",
        "\n",
        "# Set Environment Variables\n",
        "os.environ[\"JAVA_HOME\"] = \"/usr/lib/jvm/java-11-openjdk-amd64\"\n",
        "os.environ[\"SPARK_HOME\"] = f\"/content/{spark_version}-bin-hadoop3\"\n",
        "\n",
        "# Start a SparkSession\n",
        "import findspark\n",
        "findspark.init()"
      ]
    },
    {
      "cell_type": "markdown",
      "source": [],
      "metadata": {
        "id": "o64gRK49BgIp"
      }
    },
    {
      "cell_type": "code",
      "source": [
        " # Start Spark session\n",
        "from pyspark.sql import SparkSession\n",
        "spark = SparkSession.builder.appName(\"SparkSQL\").getOrCreate()"
      ],
      "metadata": {
        "id": "myvPrfS8CHzo"
      },
      "execution_count": 2,
      "outputs": []
    },
    {
      "cell_type": "code",
      "source": [
        " # Read in data from S3 Buckets\n",
        "from pyspark import SparkFiles\n",
        "url =\"https://realestateproj.s3.ap-southeast-2.amazonaws.com/real-estate-sales.csv\"\n",
        "\n",
        "spark.sparkContext.addFile(url)\n",
        "\n",
        "df = spark.read.csv(SparkFiles.get(\"real-estate-sales.csv\"), header=True, inferSchema=True)\n",
        "\n",
        "# Show DataFrame\n",
        "df.show(10)"
      ],
      "metadata": {
        "colab": {
          "base_uri": "https://localhost:8080/"
        },
        "id": "k2RjWtixCHre",
        "outputId": "9753cbb7-85c4-4551-cbed-c96db582f518"
      },
      "execution_count": 3,
      "outputs": [
        {
          "output_type": "stream",
          "name": "stdout",
          "text": [
            "+-------------+---------+-------------+-------+--------------------+--------------+-----------+-----------+-------------+----------------+------------------+----------------+-----------+--------------------+\n",
            "|Serial Number|List Year|Date Recorded|   Town|             Address|Assessed Value|Sale Amount|Sales Ratio|Property Type|Residential Type|      Non Use Code|Assessor Remarks|OPM remarks|            Location|\n",
            "+-------------+---------+-------------+-------+--------------------+--------------+-----------+-----------+-------------+----------------+------------------+----------------+-----------+--------------------+\n",
            "|      2020348|     2020|   09/13/2021|Ansonia|     230 WAKELEE AVE|      150500.0|   325000.0|      0.463|   Commercial|            NULL|              NULL|            NULL|       NULL|                NULL|\n",
            "|        20002|     2020|   10/02/2020|Ashford|     390 TURNPIKE RD|      253000.0|   430000.0|     0.5883|  Residential|   Single Family|              NULL|            NULL|       NULL|                NULL|\n",
            "|       210317|     2021|   07/05/2022|   Avon|     53 COTSWOLD WAY|      329730.0|   805000.0|     0.4096|  Residential|   Single Family|              NULL|            NULL|       NULL|POINT (-72.846365...|\n",
            "|       200212|     2020|   03/09/2021|   Avon|    5 CHESTNUT DRIVE|      130400.0|   179900.0|     0.7248|  Residential|           Condo|              NULL|            NULL|       NULL|                NULL|\n",
            "|       200243|     2020|   04/13/2021|   Avon|111 NORTHINGTON D...|      619290.0|   890000.0|     0.6958|  Residential|   Single Family|              NULL|            NULL|       NULL|                NULL|\n",
            "|       200377|     2020|   07/02/2021|   Avon|  70 FAR HILLS DRIVE|      862330.0|  1447500.0|     0.5957|  Residential|   Single Family|              NULL|            NULL|       NULL|                NULL|\n",
            "|       200109|     2020|   12/09/2020|   Avon|  57 FAR HILLS DRIVE|      847520.0|  1250000.0|      0.678|  Residential|   Single Family|              NULL|            NULL|       NULL|                NULL|\n",
            "|      2020180|     2020|   03/01/2021| Berlin| 1539 FARMINGTON AVE|      234200.0|   130000.0|     1.8015|  Residential|      Two Family|08 - Part Interest|            NULL|       NULL|                NULL|\n",
            "|      2020313|     2020|   07/01/2021| Berlin|   216 WATCH HILL RD|      412000.0|   677500.0|     0.6081|  Residential|   Single Family|              NULL|            NULL|       NULL|                NULL|\n",
            "|       200097|     2020|   06/04/2021|Bethany|         23 AMITY RD|      511000.0|   795000.0|     0.6427|   Commercial|            NULL|              NULL|            NULL|       NULL|                NULL|\n",
            "+-------------+---------+-------------+-------+--------------------+--------------+-----------+-----------+-------------+----------------+------------------+----------------+-----------+--------------------+\n",
            "only showing top 10 rows\n",
            "\n"
          ]
        }
      ]
    },
    {
      "cell_type": "code",
      "source": [],
      "metadata": {
        "id": "V_Fg-sfuCHWe"
      },
      "execution_count": null,
      "outputs": []
    }
  ]
}