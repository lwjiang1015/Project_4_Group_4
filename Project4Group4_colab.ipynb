{
  "cells": [
    {
      "cell_type": "code",
      "execution_count": 1,
      "id": "1d925ccc-2f90-48a3-8ad2-a476007d3323",
      "metadata": {
        "colab": {
          "base_uri": "https://localhost:8080/"
        },
        "id": "1d925ccc-2f90-48a3-8ad2-a476007d3323",
        "outputId": "2c20d7cb-05c3-4267-9edc-c047fce2d5ce"
      },
      "outputs": [
        {
          "output_type": "stream",
          "name": "stdout",
          "text": [
            "Get:1 https://cloud.r-project.org/bin/linux/ubuntu jammy-cran40/ InRelease [3,626 B]\n",
            "Get:2 https://developer.download.nvidia.com/compute/cuda/repos/ubuntu2204/x86_64  InRelease [1,581 B]\n",
            "Get:3 http://security.ubuntu.com/ubuntu jammy-security InRelease [129 kB]\n",
            "Hit:4 http://archive.ubuntu.com/ubuntu jammy InRelease\n",
            "Hit:5 https://ppa.launchpadcontent.net/c2d4u.team/c2d4u4.0+/ubuntu jammy InRelease\n",
            "Hit:6 https://ppa.launchpadcontent.net/deadsnakes/ppa/ubuntu jammy InRelease\n",
            "Hit:7 https://ppa.launchpadcontent.net/graphics-drivers/ppa/ubuntu jammy InRelease\n",
            "Hit:8 https://ppa.launchpadcontent.net/ubuntugis/ppa/ubuntu jammy InRelease\n",
            "Get:9 http://archive.ubuntu.com/ubuntu jammy-updates InRelease [128 kB]\n",
            "Get:10 http://archive.ubuntu.com/ubuntu jammy-backports InRelease [127 kB]\n",
            "Get:11 https://developer.download.nvidia.com/compute/cuda/repos/ubuntu2204/x86_64  Packages [874 kB]\n",
            "Get:12 http://security.ubuntu.com/ubuntu jammy-security/main amd64 Packages [1,857 kB]\n",
            "Get:13 http://archive.ubuntu.com/ubuntu jammy-updates/main amd64 Packages [2,128 kB]\n",
            "Get:14 http://security.ubuntu.com/ubuntu jammy-security/universe amd64 Packages [1,084 kB]\n",
            "Get:15 http://archive.ubuntu.com/ubuntu jammy-updates/universe amd64 Packages [1,376 kB]\n",
            "Get:16 http://archive.ubuntu.com/ubuntu jammy-backports/universe amd64 Packages [31.8 kB]\n",
            "Get:17 http://archive.ubuntu.com/ubuntu jammy-backports/main amd64 Packages [81.0 kB]\n",
            "Fetched 7,821 kB in 3s (2,245 kB/s)\n",
            "Reading package lists... Done\n"
          ]
        }
      ],
      "source": [
        "import os\n",
        "# Find the latest version of spark 3.x  from https://downloads.apache.org/spark/ and enter as the spark version\n",
        "# For example:\n",
        "# spark_version = 'spark-3.5.1'\n",
        "spark_version = 'spark-3.5.1'\n",
        "os.environ['SPARK_VERSION']=spark_version\n",
        "\n",
        "# Install Spark and Java\n",
        "!apt-get update\n",
        "!apt-get install openjdk-11-jdk-headless -qq > /dev/null\n",
        "!wget -q https://downloads.apache.org/spark/$SPARK_VERSION/$SPARK_VERSION-bin-hadoop3.tgz\n",
        "!tar xf $SPARK_VERSION-bin-hadoop3.tgz\n",
        "!pip install -q findspark\n",
        "\n",
        "# Set Environment Variables\n",
        "os.environ[\"JAVA_HOME\"] = \"/usr/lib/jvm/java-11-openjdk-amd64\"\n",
        "os.environ[\"SPARK_HOME\"] = f\"/content/{spark_version}-bin-hadoop3\"\n",
        "\n",
        "# Start a SparkSession\n",
        "import findspark\n",
        "findspark.init()"
      ]
    },
    {
      "cell_type": "code",
      "execution_count": 2,
      "id": "8c2c9581-72fb-49c6-919a-d0339888f60a",
      "metadata": {
        "id": "8c2c9581-72fb-49c6-919a-d0339888f60a"
      },
      "outputs": [],
      "source": [
        " # Start Spark session\n",
        "from pyspark.sql import SparkSession\n",
        "spark = SparkSession.builder.appName(\"SparkSQL\").getOrCreate()"
      ]
    },
    {
      "cell_type": "code",
      "execution_count": 3,
      "id": "18bb964f-abff-4c38-b45d-44a7243b49aa",
      "metadata": {
        "colab": {
          "base_uri": "https://localhost:8080/"
        },
        "id": "18bb964f-abff-4c38-b45d-44a7243b49aa",
        "outputId": "5dfa6891-2a4a-4ee7-d2fa-0d96e73d40d9"
      },
      "outputs": [
        {
          "output_type": "stream",
          "name": "stdout",
          "text": [
            "+-------------+---------+-------------+-------+---------------+--------------+-----------+-----------+-------------+----------------+------------+----------------+-----------+--------------------+\n",
            "|Serial Number|List Year|Date Recorded|   Town|        Address|Assessed Value|Sale Amount|Sales Ratio|Property Type|Residential Type|Non Use Code|Assessor Remarks|OPM remarks|            Location|\n",
            "+-------------+---------+-------------+-------+---------------+--------------+-----------+-----------+-------------+----------------+------------+----------------+-----------+--------------------+\n",
            "|      2020348|     2020|   09/13/2021|Ansonia|230 WAKELEE AVE|      150500.0|   325000.0|      0.463|   Commercial|            NULL|        NULL|            NULL|       NULL|                NULL|\n",
            "|        20002|     2020|   10/02/2020|Ashford|390 TURNPIKE RD|      253000.0|   430000.0|     0.5883|  Residential|   Single Family|        NULL|            NULL|       NULL|                NULL|\n",
            "|       210317|     2021|   07/05/2022|   Avon|53 COTSWOLD WAY|      329730.0|   805000.0|     0.4096|  Residential|   Single Family|        NULL|            NULL|       NULL|POINT (-72.846365...|\n",
            "+-------------+---------+-------------+-------+---------------+--------------+-----------+-----------+-------------+----------------+------------+----------------+-----------+--------------------+\n",
            "only showing top 3 rows\n",
            "\n"
          ]
        }
      ],
      "source": [
        " # Read in real_estate_sales.csv data from the S3 Bucket realestateproj\n",
        "from pyspark import SparkFiles\n",
        "url =\"https://realestateproj.s3.ap-southeast-2.amazonaws.com/real-estate-sales.csv\"\n",
        "spark.sparkContext.addFile(url)\n",
        "df_real_estate_sales = spark.read.csv(SparkFiles.get(\"real-estate-sales.csv\"), header=True, inferSchema=True)\n",
        "\n",
        "# Show DataFrame\n",
        "df_real_estate_sales.show(3)"
      ]
    },
    {
      "cell_type": "code",
      "source": [
        "# check the dataframe and drop any with null values\n",
        "print(\"total rows in the original dataset:\", df_real_estate_sales.count())\n",
        "df_real_estate_sales_clean = df_real_estate_sales[[\"List Year\", \"Town\",\"Assessed Value\",\"Sale Amount\",\"Sales Ratio\",\n",
        "                                                  \"Property Type\", \"Residential Type\"]].dropna(how='any')\n",
        "print(\"total non_null rows:\", df_real_estate_sales_clean.count())\n",
        "# rename the column names\n",
        "columns_to_rename = {\"List Year\":\"list_year\", \"Assessed Value\":\"assessed_value\", \"Sale Amount\":\"sale_amount\", \"Sales Ratio\":\"sales_ratio\", \"Property Type\":\"property_type\", \"Residential Type\":\"residential_type\"}\n",
        "for old_name, new_name in columns_to_rename.items():\n",
        "  df_real_estate_sales_clean=df_real_estate_sales_clean.withColumnRenamed(old_name, new_name)\n",
        "df_real_estate_sales_clean.show(3)"
      ],
      "metadata": {
        "colab": {
          "base_uri": "https://localhost:8080/"
        },
        "id": "3h7lCGSrjy4R",
        "outputId": "c9a8e01f-7e28-4490-f463-ede8b218ddcf"
      },
      "execution_count": 18,
      "outputs": [
        {
          "output_type": "stream",
          "name": "stdout",
          "text": [
            "total rows in the original dataset: 1054159\n",
            "total non_null rows: 660274\n",
            "+---------+-------+--------------+-----------+-----------+-------------+----------------+\n",
            "|list_year|   Town|assessed_value|sale_amount|sales_ratio|property_type|residential_type|\n",
            "+---------+-------+--------------+-----------+-----------+-------------+----------------+\n",
            "|     2020|Ashford|      253000.0|   430000.0|     0.5883|  Residential|   Single Family|\n",
            "|     2021|   Avon|      329730.0|   805000.0|     0.4096|  Residential|   Single Family|\n",
            "|     2020|   Avon|      130400.0|   179900.0|     0.7248|  Residential|           Condo|\n",
            "+---------+-------+--------------+-----------+-----------+-------------+----------------+\n",
            "only showing top 3 rows\n",
            "\n"
          ]
        }
      ],
      "id": "3h7lCGSrjy4R"
    },
    {
      "cell_type": "code",
      "source": [
        " # Read in .csv data from the S3 Bucket realestateproj\n",
        "url_affordableHousing =\"https://realestateproj.s3.ap-southeast-2.amazonaws.com/Affordable_Housing_by_Town_2011-2023.csv\"\n",
        "spark.sparkContext.addFile(url_affordableHousing)\n",
        "df_affordable_housing = spark.read.csv(SparkFiles.get(\"Affordable_Housing_by_Town_2011-2023.csv\"), sep=\",\", header=True)\n",
        "\n",
        "# Show DataFrame\n",
        "df_affordable_housing.show(5)"
      ],
      "metadata": {
        "colab": {
          "base_uri": "https://localhost:8080/"
        },
        "id": "7hfiWt-qdlWa",
        "outputId": "0952971a-94e0-45e6-ecab-ed7f6fd38207"
      },
      "id": "7hfiWt-qdlWa",
      "execution_count": 7,
      "outputs": [
        {
          "output_type": "stream",
          "name": "stdout",
          "text": [
            "+----+---------+-----------+------------+-------------------+------------------------+-----------------------------------+---------------------+--------------------+------------------+\n",
            "|Year|Town Code|       Town|Census Units|Government Assisted|Tenant Rental Assistance| Single Family CHFA/ USDA Mortgages|Deed Restricted Units|Total Assisted Units|Percent Affordable|\n",
            "+----+---------+-----------+------------+-------------------+------------------------+-----------------------------------+---------------------+--------------------+------------------+\n",
            "|2020|        1|    Andover|        1317|                 18|                       1|                                 32|                    0|                  51|              3.87|\n",
            "|2020|        2|    Ansonia|        8148|                349|                     764|                                147|                    0|                1260|             15.46|\n",
            "|2020|        3|    Ashford|        1903|                 32|                       0|                                 36|                    0|                  68|              3.57|\n",
            "|2020|        4|       Avon|        7389|                244|                      16|                                 44|                    0|                 304|              4.11|\n",
            "|2020|        5|Barkhamsted|        1589|                  0|                       6|                                 23|                    0|                  29|              1.83|\n",
            "+----+---------+-----------+------------+-------------------+------------------------+-----------------------------------+---------------------+--------------------+------------------+\n",
            "only showing top 5 rows\n",
            "\n"
          ]
        }
      ]
    },
    {
      "cell_type": "code",
      "source": [
        "# check the dataframes and drop any with null values\n",
        "print(\"total rows in the original dataset:\", df_affordable_housing.count())\n",
        "df_affordable_housing_clean = df_affordable_housing[[\"Year\", \"Town\",\"Percent Affordable\"]].dropna(how='any')\n",
        "print(\"total non_null rows:\", df_affordable_housing_clean.count())"
      ],
      "metadata": {
        "id": "_9nmC3wHjXoU",
        "colab": {
          "base_uri": "https://localhost:8080/"
        },
        "outputId": "df0aed80-ae14-47f0-f032-9357812cf2b5"
      },
      "id": "_9nmC3wHjXoU",
      "execution_count": 8,
      "outputs": [
        {
          "output_type": "stream",
          "name": "stdout",
          "text": [
            "total rows in the original dataset: 2194\n",
            "total non_null rows: 2194\n"
          ]
        }
      ]
    },
    {
      "cell_type": "code",
      "source": [
        "# rename the column names\n",
        "columns_to_rename_2 = {\"Year\":\"year\", \"Percent Affordable\":\"percent_affordable\"}\n",
        "for old_name, new_name in columns_to_rename_2.items():\n",
        "  df_affordable_housing_clean=df_affordable_housing_clean.withColumnRenamed(old_name, new_name)\n",
        "df_affordable_housing_clean.show(3)"
      ],
      "metadata": {
        "colab": {
          "base_uri": "https://localhost:8080/"
        },
        "id": "QNHHLwNFCh8-",
        "outputId": "48e23cf1-e39f-4266-f9db-26dcd02b237d"
      },
      "id": "QNHHLwNFCh8-",
      "execution_count": 19,
      "outputs": [
        {
          "output_type": "stream",
          "name": "stdout",
          "text": [
            "+----+-------+------------------+\n",
            "|year|   Town|percent_affordable|\n",
            "+----+-------+------------------+\n",
            "|2020|Andover|              3.87|\n",
            "|2020|Ansonia|             15.46|\n",
            "|2020|Ashford|              3.57|\n",
            "+----+-------+------------------+\n",
            "only showing top 3 rows\n",
            "\n"
          ]
        }
      ]
    },
    {
      "cell_type": "code",
      "source": [
        "# Create a temporary view for the df_real_estate_sales_clean\n",
        "df_real_estate_sales_clean.createOrReplaceTempView(\"real_estate_sales_table\")\n",
        "df_affordable_housing_clean.createOrReplaceTempView(\"affordable_housing_table\")"
      ],
      "metadata": {
        "id": "oTUW3Eq21xlx"
      },
      "id": "oTUW3Eq21xlx",
      "execution_count": 21,
      "outputs": []
    },
    {
      "cell_type": "code",
      "source": [
        "# Join the tables to get the Percent Affordable into the real estate sales table\n",
        "import time\n",
        "start_time = time.time()\n",
        "\n",
        "joined_table = spark.sql(\"\"\"\n",
        "select t1.*, t2.percent_affordable\n",
        "from real_estate_sales_table t1\n",
        "left join affordable_housing_table t2\n",
        "    on t1.list_year=t2.year\n",
        "    AND t1.Town=t2.Town\n",
        "\"\"\")\n",
        "\n",
        "print(\"--- %s seconds ---\" % (time.time() - start_time))\n"
      ],
      "metadata": {
        "colab": {
          "base_uri": "https://localhost:8080/"
        },
        "id": "iGyDS6s92GEL",
        "outputId": "5447281b-f0bd-45c8-95db-7a5db9fce414"
      },
      "id": "iGyDS6s92GEL",
      "execution_count": 29,
      "outputs": [
        {
          "output_type": "stream",
          "name": "stdout",
          "text": [
            "--- 0.03372764587402344 seconds ---\n"
          ]
        }
      ]
    },
    {
      "cell_type": "code",
      "source": [
        "# check the joined_table\n",
        "joined_table.show(3)"
      ],
      "metadata": {
        "colab": {
          "base_uri": "https://localhost:8080/"
        },
        "id": "CCqC7pUEIIOp",
        "outputId": "16a29c57-8c12-4939-b132-82652ab04385"
      },
      "id": "CCqC7pUEIIOp",
      "execution_count": 30,
      "outputs": [
        {
          "output_type": "stream",
          "name": "stdout",
          "text": [
            "+---------+-------+--------------+-----------+-----------+-------------+----------------+------------------+\n",
            "|list_year|   Town|assessed_value|sale_amount|sales_ratio|property_type|residential_type|percent_affordable|\n",
            "+---------+-------+--------------+-----------+-----------+-------------+----------------+------------------+\n",
            "|     2020|Ashford|      253000.0|   430000.0|     0.5883|  Residential|   Single Family|              3.57|\n",
            "|     2021|   Avon|      329730.0|   805000.0|     0.4096|  Residential|   Single Family|              4.09|\n",
            "|     2020|   Avon|      130400.0|   179900.0|     0.7248|  Residential|           Condo|              4.11|\n",
            "+---------+-------+--------------+-----------+-----------+-------------+----------------+------------------+\n",
            "only showing top 3 rows\n",
            "\n"
          ]
        }
      ]
    },
    {
      "cell_type": "code",
      "source": [
        "# Check the joined table\n",
        "non_null_count = joined_table.filter(joined_table[\"percent_affordable\"].isNotNull()).count()\n",
        "print(non_null_count)\n",
        "joined_table_clean = joined_table.dropna(how='any')\n",
        "print(\"total non_null rows:\", joined_table_clean.count())"
      ],
      "metadata": {
        "colab": {
          "base_uri": "https://localhost:8080/"
        },
        "id": "HVqMvGRcEnGQ",
        "outputId": "4dd80a74-236f-4c15-dc89-982a3a0ad102"
      },
      "id": "HVqMvGRcEnGQ",
      "execution_count": 33,
      "outputs": [
        {
          "output_type": "stream",
          "name": "stdout",
          "text": [
            "485285\n",
            "total non_null rows: 485285\n"
          ]
        }
      ]
    },
    {
      "cell_type": "code",
      "source": [
        "# convert the joined table to Pandas DataFrame to use sklearn for modelling\n",
        "joined_table_df = joined_table.toPandas()\n",
        "joined_table_df.head(3)"
      ],
      "metadata": {
        "colab": {
          "base_uri": "https://localhost:8080/",
          "height": 143
        },
        "id": "VZrZJQqqLIUJ",
        "outputId": "0172b22f-59a6-435d-9a96-7634fc5f54d6"
      },
      "id": "VZrZJQqqLIUJ",
      "execution_count": 34,
      "outputs": [
        {
          "output_type": "execute_result",
          "data": {
            "text/plain": [
              "   list_year     Town  assessed_value  sale_amount  sales_ratio property_type  \\\n",
              "0       2020  Ashford        253000.0     430000.0       0.5883   Residential   \n",
              "1       2021     Avon        329730.0     805000.0       0.4096   Residential   \n",
              "2       2020     Avon        130400.0     179900.0       0.7248   Residential   \n",
              "\n",
              "  residential_type percent_affordable  \n",
              "0    Single Family               3.57  \n",
              "1    Single Family               4.09  \n",
              "2            Condo               4.11  "
            ],
            "text/html": [
              "\n",
              "  <div id=\"df-9d7daf0c-5741-4674-9885-f6de9fe35355\" class=\"colab-df-container\">\n",
              "    <div>\n",
              "<style scoped>\n",
              "    .dataframe tbody tr th:only-of-type {\n",
              "        vertical-align: middle;\n",
              "    }\n",
              "\n",
              "    .dataframe tbody tr th {\n",
              "        vertical-align: top;\n",
              "    }\n",
              "\n",
              "    .dataframe thead th {\n",
              "        text-align: right;\n",
              "    }\n",
              "</style>\n",
              "<table border=\"1\" class=\"dataframe\">\n",
              "  <thead>\n",
              "    <tr style=\"text-align: right;\">\n",
              "      <th></th>\n",
              "      <th>list_year</th>\n",
              "      <th>Town</th>\n",
              "      <th>assessed_value</th>\n",
              "      <th>sale_amount</th>\n",
              "      <th>sales_ratio</th>\n",
              "      <th>property_type</th>\n",
              "      <th>residential_type</th>\n",
              "      <th>percent_affordable</th>\n",
              "    </tr>\n",
              "  </thead>\n",
              "  <tbody>\n",
              "    <tr>\n",
              "      <th>0</th>\n",
              "      <td>2020</td>\n",
              "      <td>Ashford</td>\n",
              "      <td>253000.0</td>\n",
              "      <td>430000.0</td>\n",
              "      <td>0.5883</td>\n",
              "      <td>Residential</td>\n",
              "      <td>Single Family</td>\n",
              "      <td>3.57</td>\n",
              "    </tr>\n",
              "    <tr>\n",
              "      <th>1</th>\n",
              "      <td>2021</td>\n",
              "      <td>Avon</td>\n",
              "      <td>329730.0</td>\n",
              "      <td>805000.0</td>\n",
              "      <td>0.4096</td>\n",
              "      <td>Residential</td>\n",
              "      <td>Single Family</td>\n",
              "      <td>4.09</td>\n",
              "    </tr>\n",
              "    <tr>\n",
              "      <th>2</th>\n",
              "      <td>2020</td>\n",
              "      <td>Avon</td>\n",
              "      <td>130400.0</td>\n",
              "      <td>179900.0</td>\n",
              "      <td>0.7248</td>\n",
              "      <td>Residential</td>\n",
              "      <td>Condo</td>\n",
              "      <td>4.11</td>\n",
              "    </tr>\n",
              "  </tbody>\n",
              "</table>\n",
              "</div>\n",
              "    <div class=\"colab-df-buttons\">\n",
              "\n",
              "  <div class=\"colab-df-container\">\n",
              "    <button class=\"colab-df-convert\" onclick=\"convertToInteractive('df-9d7daf0c-5741-4674-9885-f6de9fe35355')\"\n",
              "            title=\"Convert this dataframe to an interactive table.\"\n",
              "            style=\"display:none;\">\n",
              "\n",
              "  <svg xmlns=\"http://www.w3.org/2000/svg\" height=\"24px\" viewBox=\"0 -960 960 960\">\n",
              "    <path d=\"M120-120v-720h720v720H120Zm60-500h600v-160H180v160Zm220 220h160v-160H400v160Zm0 220h160v-160H400v160ZM180-400h160v-160H180v160Zm440 0h160v-160H620v160ZM180-180h160v-160H180v160Zm440 0h160v-160H620v160Z\"/>\n",
              "  </svg>\n",
              "    </button>\n",
              "\n",
              "  <style>\n",
              "    .colab-df-container {\n",
              "      display:flex;\n",
              "      gap: 12px;\n",
              "    }\n",
              "\n",
              "    .colab-df-convert {\n",
              "      background-color: #E8F0FE;\n",
              "      border: none;\n",
              "      border-radius: 50%;\n",
              "      cursor: pointer;\n",
              "      display: none;\n",
              "      fill: #1967D2;\n",
              "      height: 32px;\n",
              "      padding: 0 0 0 0;\n",
              "      width: 32px;\n",
              "    }\n",
              "\n",
              "    .colab-df-convert:hover {\n",
              "      background-color: #E2EBFA;\n",
              "      box-shadow: 0px 1px 2px rgba(60, 64, 67, 0.3), 0px 1px 3px 1px rgba(60, 64, 67, 0.15);\n",
              "      fill: #174EA6;\n",
              "    }\n",
              "\n",
              "    .colab-df-buttons div {\n",
              "      margin-bottom: 4px;\n",
              "    }\n",
              "\n",
              "    [theme=dark] .colab-df-convert {\n",
              "      background-color: #3B4455;\n",
              "      fill: #D2E3FC;\n",
              "    }\n",
              "\n",
              "    [theme=dark] .colab-df-convert:hover {\n",
              "      background-color: #434B5C;\n",
              "      box-shadow: 0px 1px 3px 1px rgba(0, 0, 0, 0.15);\n",
              "      filter: drop-shadow(0px 1px 2px rgba(0, 0, 0, 0.3));\n",
              "      fill: #FFFFFF;\n",
              "    }\n",
              "  </style>\n",
              "\n",
              "    <script>\n",
              "      const buttonEl =\n",
              "        document.querySelector('#df-9d7daf0c-5741-4674-9885-f6de9fe35355 button.colab-df-convert');\n",
              "      buttonEl.style.display =\n",
              "        google.colab.kernel.accessAllowed ? 'block' : 'none';\n",
              "\n",
              "      async function convertToInteractive(key) {\n",
              "        const element = document.querySelector('#df-9d7daf0c-5741-4674-9885-f6de9fe35355');\n",
              "        const dataTable =\n",
              "          await google.colab.kernel.invokeFunction('convertToInteractive',\n",
              "                                                    [key], {});\n",
              "        if (!dataTable) return;\n",
              "\n",
              "        const docLinkHtml = 'Like what you see? Visit the ' +\n",
              "          '<a target=\"_blank\" href=https://colab.research.google.com/notebooks/data_table.ipynb>data table notebook</a>'\n",
              "          + ' to learn more about interactive tables.';\n",
              "        element.innerHTML = '';\n",
              "        dataTable['output_type'] = 'display_data';\n",
              "        await google.colab.output.renderOutput(dataTable, element);\n",
              "        const docLink = document.createElement('div');\n",
              "        docLink.innerHTML = docLinkHtml;\n",
              "        element.appendChild(docLink);\n",
              "      }\n",
              "    </script>\n",
              "  </div>\n",
              "\n",
              "\n",
              "<div id=\"df-41ec1831-fd35-4d4c-b53f-2c5274a62181\">\n",
              "  <button class=\"colab-df-quickchart\" onclick=\"quickchart('df-41ec1831-fd35-4d4c-b53f-2c5274a62181')\"\n",
              "            title=\"Suggest charts\"\n",
              "            style=\"display:none;\">\n",
              "\n",
              "<svg xmlns=\"http://www.w3.org/2000/svg\" height=\"24px\"viewBox=\"0 0 24 24\"\n",
              "     width=\"24px\">\n",
              "    <g>\n",
              "        <path d=\"M19 3H5c-1.1 0-2 .9-2 2v14c0 1.1.9 2 2 2h14c1.1 0 2-.9 2-2V5c0-1.1-.9-2-2-2zM9 17H7v-7h2v7zm4 0h-2V7h2v10zm4 0h-2v-4h2v4z\"/>\n",
              "    </g>\n",
              "</svg>\n",
              "  </button>\n",
              "\n",
              "<style>\n",
              "  .colab-df-quickchart {\n",
              "      --bg-color: #E8F0FE;\n",
              "      --fill-color: #1967D2;\n",
              "      --hover-bg-color: #E2EBFA;\n",
              "      --hover-fill-color: #174EA6;\n",
              "      --disabled-fill-color: #AAA;\n",
              "      --disabled-bg-color: #DDD;\n",
              "  }\n",
              "\n",
              "  [theme=dark] .colab-df-quickchart {\n",
              "      --bg-color: #3B4455;\n",
              "      --fill-color: #D2E3FC;\n",
              "      --hover-bg-color: #434B5C;\n",
              "      --hover-fill-color: #FFFFFF;\n",
              "      --disabled-bg-color: #3B4455;\n",
              "      --disabled-fill-color: #666;\n",
              "  }\n",
              "\n",
              "  .colab-df-quickchart {\n",
              "    background-color: var(--bg-color);\n",
              "    border: none;\n",
              "    border-radius: 50%;\n",
              "    cursor: pointer;\n",
              "    display: none;\n",
              "    fill: var(--fill-color);\n",
              "    height: 32px;\n",
              "    padding: 0;\n",
              "    width: 32px;\n",
              "  }\n",
              "\n",
              "  .colab-df-quickchart:hover {\n",
              "    background-color: var(--hover-bg-color);\n",
              "    box-shadow: 0 1px 2px rgba(60, 64, 67, 0.3), 0 1px 3px 1px rgba(60, 64, 67, 0.15);\n",
              "    fill: var(--button-hover-fill-color);\n",
              "  }\n",
              "\n",
              "  .colab-df-quickchart-complete:disabled,\n",
              "  .colab-df-quickchart-complete:disabled:hover {\n",
              "    background-color: var(--disabled-bg-color);\n",
              "    fill: var(--disabled-fill-color);\n",
              "    box-shadow: none;\n",
              "  }\n",
              "\n",
              "  .colab-df-spinner {\n",
              "    border: 2px solid var(--fill-color);\n",
              "    border-color: transparent;\n",
              "    border-bottom-color: var(--fill-color);\n",
              "    animation:\n",
              "      spin 1s steps(1) infinite;\n",
              "  }\n",
              "\n",
              "  @keyframes spin {\n",
              "    0% {\n",
              "      border-color: transparent;\n",
              "      border-bottom-color: var(--fill-color);\n",
              "      border-left-color: var(--fill-color);\n",
              "    }\n",
              "    20% {\n",
              "      border-color: transparent;\n",
              "      border-left-color: var(--fill-color);\n",
              "      border-top-color: var(--fill-color);\n",
              "    }\n",
              "    30% {\n",
              "      border-color: transparent;\n",
              "      border-left-color: var(--fill-color);\n",
              "      border-top-color: var(--fill-color);\n",
              "      border-right-color: var(--fill-color);\n",
              "    }\n",
              "    40% {\n",
              "      border-color: transparent;\n",
              "      border-right-color: var(--fill-color);\n",
              "      border-top-color: var(--fill-color);\n",
              "    }\n",
              "    60% {\n",
              "      border-color: transparent;\n",
              "      border-right-color: var(--fill-color);\n",
              "    }\n",
              "    80% {\n",
              "      border-color: transparent;\n",
              "      border-right-color: var(--fill-color);\n",
              "      border-bottom-color: var(--fill-color);\n",
              "    }\n",
              "    90% {\n",
              "      border-color: transparent;\n",
              "      border-bottom-color: var(--fill-color);\n",
              "    }\n",
              "  }\n",
              "</style>\n",
              "\n",
              "  <script>\n",
              "    async function quickchart(key) {\n",
              "      const quickchartButtonEl =\n",
              "        document.querySelector('#' + key + ' button');\n",
              "      quickchartButtonEl.disabled = true;  // To prevent multiple clicks.\n",
              "      quickchartButtonEl.classList.add('colab-df-spinner');\n",
              "      try {\n",
              "        const charts = await google.colab.kernel.invokeFunction(\n",
              "            'suggestCharts', [key], {});\n",
              "      } catch (error) {\n",
              "        console.error('Error during call to suggestCharts:', error);\n",
              "      }\n",
              "      quickchartButtonEl.classList.remove('colab-df-spinner');\n",
              "      quickchartButtonEl.classList.add('colab-df-quickchart-complete');\n",
              "    }\n",
              "    (() => {\n",
              "      let quickchartButtonEl =\n",
              "        document.querySelector('#df-41ec1831-fd35-4d4c-b53f-2c5274a62181 button');\n",
              "      quickchartButtonEl.style.display =\n",
              "        google.colab.kernel.accessAllowed ? 'block' : 'none';\n",
              "    })();\n",
              "  </script>\n",
              "</div>\n",
              "\n",
              "    </div>\n",
              "  </div>\n"
            ],
            "application/vnd.google.colaboratory.intrinsic+json": {
              "type": "dataframe",
              "variable_name": "joined_table_df"
            }
          },
          "metadata": {},
          "execution_count": 34
        }
      ]
    }
  ],
  "metadata": {
    "kernelspec": {
      "display_name": "Python 3 (ipykernel)",
      "language": "python",
      "name": "python3"
    },
    "language_info": {
      "codemirror_mode": {
        "name": "ipython",
        "version": 3
      },
      "file_extension": ".py",
      "mimetype": "text/x-python",
      "name": "python",
      "nbconvert_exporter": "python",
      "pygments_lexer": "ipython3",
      "version": "3.7.13"
    },
    "colab": {
      "provenance": []
    }
  },
  "nbformat": 4,
  "nbformat_minor": 5
}